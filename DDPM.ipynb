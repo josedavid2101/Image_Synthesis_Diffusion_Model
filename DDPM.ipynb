{
 "cells": [
  {
   "cell_type": "markdown",
   "id": "7701f586-eca5-4bc0-8447-ec40b52d95ab",
   "metadata": {},
   "source": [
    "# Microctructure image generation using DDPM"
   ]
  },
  {
   "cell_type": "code",
   "execution_count": null,
   "id": "21fd3649-05f5-4577-b38b-88cc0f40a54a",
   "metadata": {},
   "outputs": [],
   "source": [
    "# All the libralies used in this project\n",
    "\n",
    "import numpy as np\n",
    "import pandas as pd\n",
    "import matplotlib.pyplot as plt\n",
    "import seaborn as sns\n",
    "%matplotlib inline\n",
    "# Hypothesis Testing\n",
    "from scipy.stats import shapiro\n",
    "import scipy.stats as stats"
   ]
  },
  {
   "cell_type": "code",
   "execution_count": null,
   "id": "970ab4de-c97e-481b-af81-100e1837961f",
   "metadata": {},
   "outputs": [],
   "source": [
    "# Load data\n",
    "\n",
    "transactions = pd.read_csv(\"transactions.csv\")\n",
    "ids_control = pd.read_csv(\"control_stores.csv\")\n",
    "ids_treatment = pd.read_csv(\"treatment_stores.csv\")\n",
    "products = pd.read_csv(\"products_of_interest.csv\")"
   ]
  }
 ],
 "metadata": {
  "kernelspec": {
   "display_name": "Python 3 (ipykernel)",
   "language": "python",
   "name": "python3"
  },
  "language_info": {
   "codemirror_mode": {
    "name": "ipython",
    "version": 3
   },
   "file_extension": ".py",
   "mimetype": "text/x-python",
   "name": "python",
   "nbconvert_exporter": "python",
   "pygments_lexer": "ipython3",
   "version": "3.9.12"
  }
 },
 "nbformat": 4,
 "nbformat_minor": 5
}
